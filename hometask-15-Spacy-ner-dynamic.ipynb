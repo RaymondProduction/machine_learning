{
 "cells": [
  {
   "cell_type": "markdown",
   "id": "4c5458f1",
   "metadata": {},
   "source": [
    "# Робота з текстом українською мовою за допомогою spaCy\n",
    "Цей ноутбук демонструє, як використовувати бібліотеку spaCy для аналізу тексту українською мовою, включаючи визначення сутностей (NER)."
   ]
  },
  {
   "cell_type": "code",
   "execution_count": 14,
   "id": "682a93ee",
   "metadata": {},
   "outputs": [],
   "source": [
    "\n",
    "# Встановіть необхідні пакети перед запуском цього коду\n",
    "# !pip install spacy spacy-uk\n",
    "    "
   ]
  },
  {
   "cell_type": "code",
   "execution_count": 42,
   "id": "6e288d71",
   "metadata": {},
   "outputs": [],
   "source": [
    "import spacy\n",
    "from spacy.pipeline import EntityRuler"
   ]
  },
  {
   "cell_type": "code",
   "execution_count": 43,
   "id": "f390cdd7",
   "metadata": {},
   "outputs": [
    {
     "name": "stdout",
     "output_type": "stream",
     "text": [
      "Текст: Парижі, Категорія: LOC\n",
      "Текст: Франція, Категорія: LOC\n",
      "Текст: Ілон Маск, Категорія: PER\n",
      "Текст: Tesla, Категорія: ORG\n",
      "Текст: SpaceX, Категорія: ORG\n"
     ]
    }
   ],
   "source": [
    "# Завантажуємо українську модель для NER (визначення сутностей)\n",
    "nlp = spacy.load(\"uk_core_news_lg\")\n",
    "\n",
    "# Текст для аналізу\n",
    "text = \"15 грудня 2023 року в Парижі, Франція, Ілон Маск зустрівся з представниками Tesla та SpaceX, щоб обговорити нові інвестиції. Під час конференції було оголошено про фінансування в розмірі 1,5 мільярда доларів для розробки електромобілів наступного покоління.\"\n",
    "\n",
    "# Аналіз тексту\n",
    "doc = nlp(text)\n",
    "\n",
    "# Виводимо розпізнані сутності\n",
    "for ent in doc.ents:\n",
    "    print(f\"Текст: {ent.text}, Категорія: {ent.label_}\")\n",
    "\n",
    "    "
   ]
  },
  {
   "cell_type": "code",
   "execution_count": 44,
   "id": "af8de0e0",
   "metadata": {},
   "outputs": [],
   "source": [
    "ruler = nlp.add_pipe(\"entity_ruler\", name=\"custom_entity_ruler\", before=\"ner\")\n",
    "patterns = [\n",
    "    {\"label\": \"DATE\", \"pattern\": [{\"TEXT\": {\"REGEX\": r\"\\d{1,2} (січня|лютого|грудня) \\d{4}\"}}]},\n",
    "    {\"label\": \"MONEY\", \"pattern\": [{\"TEXT\": {\"REGEX\": r\"\\d+(\\.\\d+)? (мільярда|мільйона|тисяч) доларів\"}}]}\n",
    "]\n",
    "ruler.add_patterns(patterns)"
   ]
  },
  {
   "cell_type": "code",
   "execution_count": 45,
   "id": "cfd893cc",
   "metadata": {},
   "outputs": [
    {
     "name": "stdout",
     "output_type": "stream",
     "text": [
      "Текст: Парижі, Категорія: LOC\n",
      "Текст: Франція, Категорія: LOC\n",
      "Текст: Ілон Маск, Категорія: PER\n",
      "Текст: Tesla, Категорія: ORG\n",
      "Текст: SpaceX., Категорія: ORG\n"
     ]
    }
   ],
   "source": [
    "# Перевірка з новими правилами\n",
    "text = \"15 грудня 2023 року в Парижі, Франція, Ілон Маск зустрівся з представниками Tesla та SpaceX. Було оголошено про фінансування в розмірі 1,5 мільярда доларів.\"\n",
    "doc = nlp(text)\n",
    "for ent in doc.ents:\n",
    "    print(f\"Текст: {ent.text}, Категорія: {ent.label_}\")\n"
   ]
  },
  {
   "cell_type": "code",
   "execution_count": null,
   "id": "32b1ebdd",
   "metadata": {},
   "outputs": [],
   "source": [
    "\n",
    "import matplotlib.pyplot as plt\n",
    "from collections import Counter\n",
    "\n",
    "# Analyze text\n",
    "text = \"15 грудня 2023 року в Парижі, Франція, Ілон Маск зустрівся з представниками Tesla та SpaceX. Було оголошено про фінансування в розмірі 1,5 мільярда доларів.\"\n",
    "doc = nlp2(text)\n",
    "\n",
    "# Count entity types\n",
    "entity_counts = Counter(ent.label_ for ent in doc.ents)\n",
    "\n",
    "# Prepare data for plotting\n",
    "entities = list(entity_counts.keys())\n",
    "counts = list(entity_counts.values())\n",
    "\n",
    "# Create a bar chart\n",
    "plt.figure(figsize=(8, 5))\n",
    "plt.bar(entities, counts, color='skyblue')\n",
    "plt.title('Frequency of Named Entities')\n",
    "plt.xlabel('Entity Type')\n",
    "plt.ylabel('Count')\n",
    "plt.show()\n"
   ]
  }
 ],
 "metadata": {
  "kernelspec": {
   "display_name": "myproject_kernel",
   "language": "python",
   "name": "myproject_kernel"
  },
  "language_info": {
   "codemirror_mode": {
    "name": "ipython",
    "version": 3
   },
   "file_extension": ".py",
   "mimetype": "text/x-python",
   "name": "python",
   "nbconvert_exporter": "python",
   "pygments_lexer": "ipython3",
   "version": "3.9.13"
  }
 },
 "nbformat": 4,
 "nbformat_minor": 5
}

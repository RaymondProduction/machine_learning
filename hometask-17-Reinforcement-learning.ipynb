{
 "cells": [
  {
   "cell_type": "markdown",
   "id": "6f606f03",
   "metadata": {},
   "source": [
    "# Reinforcement learning\n",
    "\n",
    "https://huggingface.co/TaTo69/ppo-LunarLander-v3\n",
    "\n",
    "Навчання з підкріпленням (Reinforcement Learning, або RL), яке намагається керувати посадковим модулем (LunarLander) і посадити його на поверхню. Модель RL навчається приймати рішення, щоб досягти своєї мети (в даному випадку — безпечної посадки), отримуючи винагороди за свої дії."
   ]
  },
  {
   "cell_type": "code",
   "execution_count": 4,
   "id": "eb118eba",
   "metadata": {},
   "outputs": [
    {
     "name": "stdout",
     "output_type": "stream",
     "text": [
      "Using cpu device\n"
     ]
    },
    {
     "data": {
      "image/png": "[encoded data removed]",
      "text/plain": [
       "<Figure size 640x480 with 1 Axes>"
      ]
     },
     "metadata": {},
     "output_type": "display_data"
    }
   ],
   "source": [
    "import matplotlib.pyplot as plt\n",
    "from stable_baselines3 import PPO\n",
    "from stable_baselines3.common.env_util import make_vec_env\n",
    "\n",
    "# Створення середовища LunarLander\n",
    "env = make_vec_env(\"LunarLander-v3\", n_envs=1)\n",
    "\n",
    "# Завантаження моделі\n",
    "model = PPO(\"MlpPolicy\", env, verbose=1)\n",
    "\n",
    "# Ініціалізація кадрів\n",
    "frames = []\n",
    "obs = env.reset()\n",
    "\n",
    "# Запуск симуляції\n",
    "for _ in range(5000):  # 500 кроків\n",
    "    action, _ = model.predict(obs)  # Передбачення дій моделлю\n",
    "    obs, reward, done, info = env.step(action)  # Виконання дій\n",
    "    frame = env.render(mode='rgb_array')  # Рендеринг кадру\n",
    "    \n",
    "    if frame is not None:\n",
    "        frames.append(frame)  # Зберігаємо кадр\n",
    "    else:\n",
    "        print(\"Frame is None!\")\n",
    "\n",
    "    if done:  # Якщо епізод завершено, скидаємо середовище\n",
    "        obs = env.reset()\n",
    "\n",
    "env.close()\n",
    "\n",
    "# Створення анімації\n",
    "from matplotlib.animation import FuncAnimation\n",
    "\n",
    "fig, ax = plt.subplots()\n",
    "im = ax.imshow(frames[0])\n",
    "\n",
    "def update(frame):\n",
    "    im.set_data(frame)\n",
    "    return [im]\n",
    "\n",
    "ani = FuncAnimation(fig, update, frames=frames, blit=True)\n",
    "ani.save(\"hometask-17-Reinforcement-learning-lunar-lander-animation.mp4\", fps=30, dpi=300)  # Зберігаємо відео\n",
    "plt.show()\n"
   ]
  },
  {
   "cell_type": "markdown",
   "id": "603a00b6",
   "metadata": {},
   "source": [
    "# Відео"
   ]
  },
  {
   "cell_type": "code",
   "execution_count": 8,
   "id": "ee515e31",
   "metadata": {},
   "outputs": [
    {
     "data": {
      "text/html": [
       "\n",
       "<video width=\"640\" height=\"480\" controls>\n",
       "  <source src=\"hometask-17-Reinforcement-learning-lunar-lander-animation.mp4\" type=\"video/mp4\">\n",
       "  Your browser does not support the video tag.\n",
       "</video>\n"
      ],
      "text/plain": [
       "<IPython.core.display.HTML object>"
      ]
     },
     "execution_count": 8,
     "metadata": {},
     "output_type": "execute_result"
    }
   ],
   "source": [
    "from IPython.display import HTML\n",
    "\n",
    "video_path = \"hometask-17-Reinforcement-learning-lunar-lander-animation.mp4\"\n",
    "\n",
    "# Відображення відео\n",
    "HTML(f\"\"\"\n",
    "<video width=\"640\" height=\"480\" controls>\n",
    "  <source src=\"{video_path}\" type=\"video/mp4\">\n",
    "  Your browser does not support the video tag.\n",
    "</video>\n",
    "\"\"\")\n"
   ]
  },
  {
   "cell_type": "markdown",
   "id": "8351ed11",
   "metadata": {},
   "source": [
    "Здебільшого нормальне приземлення але інколи розбиваєтся"
   ]
  }
 ],
 "metadata": {
  "kernelspec": {
   "display_name": "myproject_kernel",
   "language": "python",
   "name": "myproject_kernel"
  },
  "language_info": {
   "codemirror_mode": {
    "name": "ipython",
    "version": 3
   },
   "file_extension": ".py",
   "mimetype": "text/x-python",
   "name": "python",
   "nbconvert_exporter": "python",
   "pygments_lexer": "ipython3",
   "version": "3.9.13"
  }
 },
 "nbformat": 4,
 "nbformat_minor": 5
}

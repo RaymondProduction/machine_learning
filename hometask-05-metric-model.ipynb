{
 "cells": [
  {
   "cell_type": "markdown",
   "id": "e02d396a",
   "metadata": {},
   "source": [
    "\n",
    "# Побудова моделі KNeighbors\n",
    "\n",
    "1. **Регресія**: Прогнозування віку малюска (кількість кілець).\n",
    "2. **Класифікація**: Прогнозування статі малюска (M, F, I).\n",
    "\n",
    "---\n",
    "\n",
    "## Опис датасету\n",
    "- **Джерело**: [UCI Abalone Dataset](https://archive.ics.uci.edu/ml/datasets/Abalone)\n",
    "- **Атрибути**:\n",
    "  - `Sex`: Категоріальна змінна (M = Чоловік, F = Жінка, I = Інфант).\n",
    "  - `Length`, `Diameter`, `Height`: Фізичні виміри (числові значення).\n",
    "  - `WholeWeight`, `ShuckedWeight`, `VisceraWeight`, `ShellWeight`: Вагові характеристики (числові значення).\n",
    "  - `Rings`: Ціла змінна (ціль для регресії, що представляє вік).\n",
    "\n",
    "---\n"
   ]
  },
  {
   "cell_type": "code",
   "execution_count": 1,
   "id": "0beb7d2a",
   "metadata": {},
   "outputs": [
    {
     "name": "stderr",
     "output_type": "stream",
     "text": [
      "Matplotlib created a temporary cache directory at /var/folders/t1/w5ktxn5j25n31cysspss6y880000gn/T/matplotlib-0940z7__ because the default path (/Users/raymond/.matplotlib) is not a writable directory; it is highly recommended to set the MPLCONFIGDIR environment variable to a writable directory, in particular to speed up the import of Matplotlib and to better support multiprocessing.\n",
      "Matplotlib is building the font cache; this may take a moment.\n"
     ]
    },
    {
     "data": {
      "text/html": [
       "<div>\n",
       "<style scoped>\n",
       "    .dataframe tbody tr th:only-of-type {\n",
       "        vertical-align: middle;\n",
       "    }\n",
       "\n",
       "    .dataframe tbody tr th {\n",
       "        vertical-align: top;\n",
       "    }\n",
       "\n",
       "    .dataframe thead th {\n",
       "        text-align: right;\n",
       "    }\n",
       "</style>\n",
       "<table border=\"1\" class=\"dataframe\">\n",
       "  <thead>\n",
       "    <tr style=\"text-align: right;\">\n",
       "      <th></th>\n",
       "      <th>Sex</th>\n",
       "      <th>Length</th>\n",
       "      <th>Diameter</th>\n",
       "      <th>Height</th>\n",
       "      <th>WholeWeight</th>\n",
       "      <th>ShuckedWeight</th>\n",
       "      <th>VisceraWeight</th>\n",
       "      <th>ShellWeight</th>\n",
       "      <th>Rings</th>\n",
       "    </tr>\n",
       "  </thead>\n",
       "  <tbody>\n",
       "    <tr>\n",
       "      <th>0</th>\n",
       "      <td>M</td>\n",
       "      <td>0.455</td>\n",
       "      <td>0.365</td>\n",
       "      <td>0.095</td>\n",
       "      <td>0.5140</td>\n",
       "      <td>0.2245</td>\n",
       "      <td>0.1010</td>\n",
       "      <td>0.150</td>\n",
       "      <td>15</td>\n",
       "    </tr>\n",
       "    <tr>\n",
       "      <th>1</th>\n",
       "      <td>M</td>\n",
       "      <td>0.350</td>\n",
       "      <td>0.265</td>\n",
       "      <td>0.090</td>\n",
       "      <td>0.2255</td>\n",
       "      <td>0.0995</td>\n",
       "      <td>0.0485</td>\n",
       "      <td>0.070</td>\n",
       "      <td>7</td>\n",
       "    </tr>\n",
       "    <tr>\n",
       "      <th>2</th>\n",
       "      <td>F</td>\n",
       "      <td>0.530</td>\n",
       "      <td>0.420</td>\n",
       "      <td>0.135</td>\n",
       "      <td>0.6770</td>\n",
       "      <td>0.2565</td>\n",
       "      <td>0.1415</td>\n",
       "      <td>0.210</td>\n",
       "      <td>9</td>\n",
       "    </tr>\n",
       "    <tr>\n",
       "      <th>3</th>\n",
       "      <td>M</td>\n",
       "      <td>0.440</td>\n",
       "      <td>0.365</td>\n",
       "      <td>0.125</td>\n",
       "      <td>0.5160</td>\n",
       "      <td>0.2155</td>\n",
       "      <td>0.1140</td>\n",
       "      <td>0.155</td>\n",
       "      <td>10</td>\n",
       "    </tr>\n",
       "    <tr>\n",
       "      <th>4</th>\n",
       "      <td>I</td>\n",
       "      <td>0.330</td>\n",
       "      <td>0.255</td>\n",
       "      <td>0.080</td>\n",
       "      <td>0.2050</td>\n",
       "      <td>0.0895</td>\n",
       "      <td>0.0395</td>\n",
       "      <td>0.055</td>\n",
       "      <td>7</td>\n",
       "    </tr>\n",
       "  </tbody>\n",
       "</table>\n",
       "</div>"
      ],
      "text/plain": [
       "  Sex  Length  Diameter  Height  WholeWeight  ShuckedWeight  VisceraWeight  \\\n",
       "0   M   0.455     0.365   0.095       0.5140         0.2245         0.1010   \n",
       "1   M   0.350     0.265   0.090       0.2255         0.0995         0.0485   \n",
       "2   F   0.530     0.420   0.135       0.6770         0.2565         0.1415   \n",
       "3   M   0.440     0.365   0.125       0.5160         0.2155         0.1140   \n",
       "4   I   0.330     0.255   0.080       0.2050         0.0895         0.0395   \n",
       "\n",
       "   ShellWeight  Rings  \n",
       "0        0.150     15  \n",
       "1        0.070      7  \n",
       "2        0.210      9  \n",
       "3        0.155     10  \n",
       "4        0.055      7  "
      ]
     },
     "execution_count": 1,
     "metadata": {},
     "output_type": "execute_result"
    }
   ],
   "source": [
    "\n",
    "# Імпортуємо необхідні бібліотеки\n",
    "import pandas as pd\n",
    "from sklearn.model_selection import train_test_split\n",
    "from sklearn.neighbors import KNeighborsRegressor, KNeighborsClassifier\n",
    "from sklearn.metrics import mean_squared_error, classification_report, roc_curve, auc\n",
    "import matplotlib.pyplot as plt\n",
    "\n",
    "# Завантаження датасету\n",
    "column_names = [\n",
    "    \"Sex\", \"Length\", \"Diameter\", \"Height\", \"WholeWeight\",\n",
    "    \"ShuckedWeight\", \"VisceraWeight\", \"ShellWeight\", \"Rings\"\n",
    "]\n",
    "abalone_df = pd.read_csv('abalone/abalone.data', header=None, names=column_names)\n",
    "\n",
    "# Попередній перегляд датасету\n",
    "abalone_df.head()\n"
   ]
  },
  {
   "cell_type": "markdown",
   "id": "ff31e256",
   "metadata": {},
   "source": [
    "## Метрична модель регресії для прогнозування віку молюсків"
   ]
  },
  {
   "cell_type": "code",
   "execution_count": 2,
   "id": "9abae29a",
   "metadata": {},
   "outputs": [
    {
     "name": "stdout",
     "output_type": "stream",
     "text": [
      "Середньоквадратична помилка (MSE): 5.268803827751197\n"
     ]
    }
   ],
   "source": [
    "\n",
    "# Регресія: Прогнозування віку (кількість кілець)\n",
    "# Підготовка даних\n",
    "X_regression = abalone_df.drop(columns=[\"Rings\", \"Sex\"])\n",
    "y_regression = abalone_df[\"Rings\"]\n",
    "\n",
    "# Розділення даних на навчальну та тестову вибірки\n",
    "X_train_reg, X_test_reg, y_train_reg, y_test_reg = train_test_split(X_regression, y_regression, test_size=0.2, random_state=42)\n",
    "\n",
    "# Тренування моделі K-найближчих сусідів\n",
    "regressor = KNeighborsRegressor(n_neighbors=5)\n",
    "regressor.fit(X_train_reg, y_train_reg)\n",
    "\n",
    "# Прогнозування на тестових даних\n",
    "y_pred_reg = regressor.predict(X_test_reg)\n",
    "\n",
    "# Оцінка регресійної моделі\n",
    "mse = mean_squared_error(y_test_reg, y_pred_reg)\n",
    "print(f\"Середньоквадратична помилка (MSE): {mse}\")\n"
   ]
  },
  {
   "cell_type": "markdown",
   "id": "24f594b2",
   "metadata": {},
   "source": [
    "## Метрична модель класифікації для прогнозування статі молюсків"
   ]
  },
  {
   "cell_type": "code",
   "execution_count": 3,
   "id": "702af579",
   "metadata": {},
   "outputs": [
    {
     "name": "stdout",
     "output_type": "stream",
     "text": [
      "              precision    recall  f1-score   support\n",
      "\n",
      "           0       0.47      0.56      0.51       307\n",
      "           1       0.44      0.33      0.38       262\n",
      "           2       0.71      0.73      0.72       267\n",
      "\n",
      "    accuracy                           0.54       836\n",
      "   macro avg       0.54      0.54      0.53       836\n",
      "weighted avg       0.54      0.54      0.53       836\n",
      "\n"
     ]
    },
    {
     "data": {
      "image/png": "[encoded data removed]",
      "text/plain": [
       "<Figure size 640x480 with 1 Axes>"
      ]
     },
     "metadata": {},
     "output_type": "display_data"
    }
   ],
   "source": [
    "\n",
    "# Класифікація: Прогнозування статі\n",
    "# Підготовка даних\n",
    "X_classification = abalone_df.drop(columns=[\"Sex\", \"Rings\"])\n",
    "y_classification = abalone_df[\"Sex\"]\n",
    "\n",
    "# Перетворення цільової змінної у числовий формат\n",
    "y_classification = y_classification.map({'M': 0, 'F': 1, 'I': 2})\n",
    "\n",
    "# Розділення даних на навчальну та тестову вибірки\n",
    "X_train_cls, X_test_cls, y_train_cls, y_test_cls = train_test_split(X_classification, y_classification, test_size=0.2, random_state=42)\n",
    "\n",
    "# Тренування моделі K-найближчих сусідів\n",
    "classifier = KNeighborsClassifier(n_neighbors=6)\n",
    "classifier.fit(X_train_cls, y_train_cls)\n",
    "\n",
    "# Прогнозування на тестових даних\n",
    "y_pred_cls = classifier.predict(X_test_cls)\n",
    "\n",
    "# Оцінка класифікаційної моделі\n",
    "print(classification_report(y_test_cls, y_pred_cls))\n",
    "\n",
    "# Побудова ROC-кривої (для одного класу)\n",
    "y_score = classifier.predict_proba(X_test_cls)\n",
    "fpr, tpr, _ = roc_curve(y_test_cls, y_score[:, 1], pos_label=1)\n",
    "roc_auc = auc(fpr, tpr)\n",
    "\n",
    "# Побудова графіка ROC-кривої\n",
    "plt.figure()\n",
    "plt.plot(fpr, tpr, color=\"darkorange\", label=f\"ROC-крива (площа = {roc_auc:.2f})\")\n",
    "plt.plot([0, 1], [0, 1], color=\"navy\", linestyle=\"--\")\n",
    "plt.xlabel(\"Рівень хибних позитивів\")\n",
    "plt.ylabel(\"Рівень справжніх позитивів\")\n",
    "plt.title(\"Характеристика приймально-відмовної кривої\")\n",
    "plt.legend(loc=\"lower right\")\n",
    "plt.show()\n"
   ]
  },
  {
   "cell_type": "markdown",
   "id": "33d2f9d8",
   "metadata": {},
   "source": [
    "При n_neighbors = 6 AUC має найбільше значення. При AUC = 0.6–0.7: Модель має слабку прогностичну здатність."
   ]
  },
  {
   "cell_type": "markdown",
   "id": "e53bf78f",
   "metadata": {},
   "source": [
    "## Перевірка чи є дисбаланс"
   ]
  },
  {
   "cell_type": "code",
   "execution_count": 4,
   "id": "be65be19",
   "metadata": {},
   "outputs": [
    {
     "name": "stdout",
     "output_type": "stream",
     "text": [
      "Розподіл класів у стовпці 'Sex':\n",
      "Sex\n",
      "M    1528\n",
      "I    1342\n",
      "F    1307\n",
      "Name: count, dtype: int64\n"
     ]
    }
   ],
   "source": [
    "# Підрахунок кількості екземплярів у кожному класі стовпця 'Sex'\n",
    "sex_distribution = abalone_df['Sex'].value_counts()\n",
    "\n",
    "# Виведення результату\n",
    "print(\"Розподіл класів у стовпці 'Sex':\")\n",
    "print(sex_distribution)\n"
   ]
  },
  {
   "cell_type": "markdown",
   "id": "5171575a",
   "metadata": {},
   "source": [
    "Висновок. Баланс є."
   ]
  }
 ],
 "metadata": {
  "kernelspec": {
   "display_name": "myproject_kernel",
   "language": "python",
   "name": "myproject_kernel"
  },
  "language_info": {
   "codemirror_mode": {
    "name": "ipython",
    "version": 3
   },
   "file_extension": ".py",
   "mimetype": "text/x-python",
   "name": "python",
   "nbconvert_exporter": "python",
   "pygments_lexer": "ipython3",
   "version": "3.9.13"
  }
 },
 "nbformat": 4,
 "nbformat_minor": 5
}

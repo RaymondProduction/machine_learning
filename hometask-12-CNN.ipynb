{
 "cells": [
  {
   "cell_type": "markdown",
   "id": "23cc8669",
   "metadata": {},
   "source": [
    "###  Класифікація датасету FashionMNIST використавши Conv шари\n",
    "\n",
    "Conv шари (Convolutional Layers) – це основні будівельні блоки в Convolutional Neural Networks (CNN), які використовуються для обробки зображень та інших даних з локальними залежностями. Вони застосовують фільтри (kernels) для виконання згортки над вхідними даними, виявляючи важливі особливості, такі як контури, текстури або складніші патерни. Завдяки цьому модель може навчатися ієрархії ознак, починаючи з простих елементів на початкових шарах і переходячи до більш абстрактних на глибших.\n",
    "\n",
    "![Convolution Example](cnn-800.png)\n",
    "\n",
    "1. **Input:** Вхідне зображення представлено у вигляді матриці пікселів.\n",
    "2. **Image Patch:** Маленька ділянка (локальне вікно) зображення обробляється одночасно, це називається \"local receptive field\".\n",
    "3. **Kernel (фільтр):** Фільтр (розміром 3x3 у цьому випадку) застосовується до цього вікна через операцію згортки. Елементи фільтра множаться на відповідні значення пікселів у \"вікні\" та сумуються.\n",
    "4. **Output:** Результат записується у вихідну матрицю як одне значення (31 на малюнку).\n",
    "\n",
    "### Операція згортки (оператор зірочки, дуже важлива штука)\n",
    "\n",
    "На зображені дві матриці оброблються таким чином: (1⋅1)+(0⋅2)+(1⋅3)+(0⋅4)+(1⋅5)+(1⋅6)+(1⋅7)+(0⋅8)+(1⋅9)=31\n",
    "Це і є згортка.\n",
    "\n",
    "Згортка дозволяє моделі витягувати ознаки з локальних ділянок зображення (наприклад, контури, текстури). Це ефективно зменшує розмір зображення і зберігає важливу інформацію для подальшого навчання.\n",
    "\n"
   ]
  },
  {
   "cell_type": "code",
   "execution_count": 2,
   "id": "fbdb634f",
   "metadata": {},
   "outputs": [
    {
     "name": "stdout",
     "output_type": "stream",
     "text": [
      "Using device: cpu\n"
     ]
    }
   ],
   "source": [
    "import matplotlib.pyplot as plt\n",
    "import numpy as np\n",
    "import torch\n",
    "import torchvision\n",
    "import torchvision.transforms as transforms\n",
    "import torch.nn as nn\n",
    "import torch.nn.functional as F\n",
    "import torch.optim as optim\n",
    "\n",
    "# Перевірка наявності GPU. На усякий випадок. Раптом є.\n",
    "device = torch.device(\"cuda:0\" if torch.cuda.is_available() else \"cpu\")\n",
    "print(f'Using device: {device}')\n"
   ]
  },
  {
   "cell_type": "code",
   "execution_count": 4,
   "id": "89da39c9",
   "metadata": {},
   "outputs": [],
   "source": [
    "# Завантаження датасету з перетвореннями\n",
    "transform = transforms.Compose([\n",
    "    transforms.ToTensor(),\n",
    "    transforms.Normalize((0.5,), (0.5,))\n",
    "])\n",
    "\n",
    "batch_size = 64\n",
    "\n",
    "trainset = torchvision.datasets.FashionMNIST(root='./data', train=True, download=True, transform=transform)\n",
    "trainloader = torch.utils.data.DataLoader(trainset, batch_size=batch_size, shuffle=True, num_workers=2)\n",
    "\n",
    "testset = torchvision.datasets.FashionMNIST(root='./data', train=False, download=True, transform=transform)\n",
    "testloader = torch.utils.data.DataLoader(testset, batch_size=batch_size, shuffle=False, num_workers=2)\n",
    "\n",
    "classes = ('T-shirt/top', 'Trouser', 'Pullover', 'Dress', 'Coat', 'Sandal', 'Shirt', 'Sneaker', 'Bag', 'Ankle boot')\n"
   ]
  },
  {
   "cell_type": "code",
   "execution_count": 7,
   "id": "76317ef2",
   "metadata": {},
   "outputs": [
    {
     "name": "stdout",
     "output_type": "stream",
     "text": [
      "Net(\n",
      "  (conv1): Conv2d(1, 6, kernel_size=(5, 5), stride=(1, 1))\n",
      "  (pool): MaxPool2d(kernel_size=2, stride=2, padding=0, dilation=1, ceil_mode=False)\n",
      "  (conv2): Conv2d(6, 16, kernel_size=(5, 5), stride=(1, 1))\n",
      "  (fc1): Linear(in_features=256, out_features=120, bias=True)\n",
      "  (fc2): Linear(in_features=120, out_features=84, bias=True)\n",
      "  (fc3): Linear(in_features=84, out_features=10, bias=True)\n",
      ")\n"
     ]
    }
   ],
   "source": [
    "# Визначення моделі нейронної мережі\n",
    "class Net(nn.Module):\n",
    "    def __init__(self):\n",
    "        super(Net, self).__init__()\n",
    "        self.conv1 = nn.Conv2d(1, 6, kernel_size=5)  # 1 канал, 6 фільтрів, 5x5 розмір фільтра\n",
    "        self.pool = nn.MaxPool2d(2, 2)              # Пулінг 2x2\n",
    "        self.conv2 = nn.Conv2d(6, 16, kernel_size=5)\n",
    "        self.fc1 = nn.Linear(16 * 4 * 4, 120)       # Fully connected layer\n",
    "        self.fc2 = nn.Linear(120, 84)\n",
    "        self.fc3 = nn.Linear(84, 10)                # 10 класів\n",
    "\n",
    "    def forward(self, x):\n",
    "        x = self.pool(F.relu(self.conv1(x)))\n",
    "        x = self.pool(F.relu(self.conv2(x)))\n",
    "        x = x.view(-1, 16 * 4 * 4)  # Flatten\n",
    "        x = F.relu(self.fc1(x))\n",
    "        x = F.relu(self.fc2(x))\n",
    "        x = self.fc3(x)\n",
    "        return x\n",
    "\n",
    "net = Net().to(device)\n",
    "print(net)\n"
   ]
  },
  {
   "cell_type": "markdown",
   "id": "1ada15a3",
   "metadata": {},
   "source": [
    "### Пулінг 2x2 \n",
    "Пулінг 2x2  – це операція зменшення розмірності зображення або Feature Map, яка використовується після Conv-шарів у згорткових нейронних мережах (CNN).\n",
    "1. 2x2 – означає, що локальне вікно (підматриця) розміром 2x2 береться із вхідної матриці.\n",
    "2. Пулінг застосовується до кожного такого вікна для зменшення розміру матриці.\n",
    "\n",
    "**Два найпоширеніші види пулінгу:**\n",
    "- **Max Pooling:** обирається максимальне значення з кожного 2x2 вікна.\n",
    "- **Average Pooling:** обчислюється середнє значення для кожного 2x2 вікна.\n",
    "\n",
    "\n",
    "\\begin{bmatrix}\n",
    "1 & 3 & 2 & 1 \\\\\n",
    "4 & 6 & 5 & 3 \\\\\n",
    "7 & 8 & 2 & 4 \\\\\n",
    "3 & 5 & 1 & 6\n",
    "\\end{bmatrix}\n",
    "\n",
    "Розбиваємо матрицю на неперекривні вікна 2x2:\n",
    "\n",
    "\\begin{bmatrix}\n",
    "1 & 3 \\\\\n",
    "4 & 6\n",
    "\\end{bmatrix}\n",
    "\n",
    "\\begin{bmatrix}\n",
    "2 & 1 \\\\\n",
    "5 & 3\n",
    "\\end{bmatrix}\n",
    "\n",
    "\\begin{bmatrix}\n",
    "7 & 8 \\\\\n",
    "3 & 5\n",
    "\\end{bmatrix}\n",
    "\n",
    "\\begin{bmatrix}\n",
    "2 & 4 \\\\\n",
    "1 & 6\n",
    "\\end{bmatrix}\n",
    "\n",
    "Застосовуємо Max Pooling (беремо максимальне значення у кожному вікні):\n",
    "\n",
    "\\begin{bmatrix}\n",
    "6 & 8 \\\\\n",
    "5 & 6\n",
    "\\end{bmatrix}\n",
    "\n"
   ]
  },
  {
   "cell_type": "code",
   "execution_count": 8,
   "id": "07b271c2",
   "metadata": {},
   "outputs": [
    {
     "name": "stdout",
     "output_type": "stream",
     "text": [
      "[Epoch 1, Batch 100] loss: 2.304\n",
      "[Epoch 1, Batch 200] loss: 2.297\n",
      "[Epoch 1, Batch 300] loss: 2.290\n",
      "[Epoch 1, Batch 400] loss: 2.277\n",
      "[Epoch 1, Batch 500] loss: 2.245\n",
      "[Epoch 1, Batch 600] loss: 2.132\n",
      "[Epoch 1, Batch 700] loss: 1.677\n",
      "[Epoch 1, Batch 800] loss: 1.116\n",
      "[Epoch 1, Batch 900] loss: 0.903\n",
      "[Epoch 2, Batch 100] loss: 0.793\n",
      "[Epoch 2, Batch 200] loss: 0.791\n",
      "[Epoch 2, Batch 300] loss: 0.758\n",
      "[Epoch 2, Batch 400] loss: 0.744\n",
      "[Epoch 2, Batch 500] loss: 0.699\n",
      "[Epoch 2, Batch 600] loss: 0.678\n",
      "[Epoch 2, Batch 700] loss: 0.678\n",
      "[Epoch 2, Batch 800] loss: 0.667\n",
      "[Epoch 2, Batch 900] loss: 0.667\n",
      "[Epoch 3, Batch 100] loss: 0.621\n",
      "[Epoch 3, Batch 200] loss: 0.648\n",
      "[Epoch 3, Batch 300] loss: 0.613\n",
      "[Epoch 3, Batch 400] loss: 0.611\n",
      "[Epoch 3, Batch 500] loss: 0.605\n",
      "[Epoch 3, Batch 600] loss: 0.578\n",
      "[Epoch 3, Batch 700] loss: 0.601\n",
      "[Epoch 3, Batch 800] loss: 0.597\n",
      "[Epoch 3, Batch 900] loss: 0.582\n",
      "[Epoch 4, Batch 100] loss: 0.583\n",
      "[Epoch 4, Batch 200] loss: 0.542\n",
      "[Epoch 4, Batch 300] loss: 0.534\n",
      "[Epoch 4, Batch 400] loss: 0.539\n",
      "[Epoch 4, Batch 500] loss: 0.554\n",
      "[Epoch 4, Batch 600] loss: 0.542\n",
      "[Epoch 4, Batch 700] loss: 0.522\n",
      "[Epoch 4, Batch 800] loss: 0.515\n",
      "[Epoch 4, Batch 900] loss: 0.537\n",
      "[Epoch 5, Batch 100] loss: 0.497\n",
      "[Epoch 5, Batch 200] loss: 0.521\n",
      "[Epoch 5, Batch 300] loss: 0.508\n",
      "[Epoch 5, Batch 400] loss: 0.501\n",
      "[Epoch 5, Batch 500] loss: 0.497\n",
      "[Epoch 5, Batch 600] loss: 0.492\n",
      "[Epoch 5, Batch 700] loss: 0.478\n",
      "[Epoch 5, Batch 800] loss: 0.465\n",
      "[Epoch 5, Batch 900] loss: 0.481\n",
      "Training Finished\n"
     ]
    }
   ],
   "source": [
    "criterion = nn.CrossEntropyLoss()\n",
    "optimizer = optim.SGD(net.parameters(), lr=0.001, momentum=0.9)\n",
    "\n",
    "# Тренування моделі\n",
    "for epoch in range(5):  # кількість епох\n",
    "    running_loss = 0.0\n",
    "    for i, data in enumerate(trainloader, 0):\n",
    "        inputs, labels = data\n",
    "        inputs, labels = inputs.to(device), labels.to(device)\n",
    "\n",
    "        optimizer.zero_grad()\n",
    "        outputs = net(inputs)\n",
    "        loss = criterion(outputs, labels)\n",
    "        loss.backward()\n",
    "        optimizer.step()\n",
    "\n",
    "        running_loss += loss.item()\n",
    "        if i % 100 == 99:\n",
    "            print(f'[Epoch {epoch + 1}, Batch {i + 1}] loss: {running_loss / 100:.3f}')\n",
    "            running_loss = 0.0\n",
    "\n",
    "print('Training Finished')\n"
   ]
  },
  {
   "cell_type": "code",
   "execution_count": 9,
   "id": "c2d64510",
   "metadata": {},
   "outputs": [
    {
     "name": "stdout",
     "output_type": "stream",
     "text": [
      "Accuracy of the network on the 10000 test images: 81.98%\n"
     ]
    }
   ],
   "source": [
    "correct = 0\n",
    "total = 0\n",
    "\n",
    "with torch.no_grad():\n",
    "    for data in testloader:\n",
    "        images, labels = data\n",
    "        images, labels = images.to(device), labels.to(device)\n",
    "        outputs = net(images)\n",
    "        _, predicted = torch.max(outputs.data, 1)\n",
    "        total += labels.size(0)\n",
    "        correct += (predicted == labels).sum().item()\n",
    "\n",
    "print(f'Accuracy of the network on the 10000 test images: {100 * correct / total:.2f}%')\n"
   ]
  },
  {
   "cell_type": "code",
   "execution_count": 11,
   "id": "51db9509",
   "metadata": {},
   "outputs": [
    {
     "data": {
      "image/png": "[encoded data removed]",
      "text/plain": [
       "<Figure size 640x480 with 1 Axes>"
      ]
     },
     "metadata": {},
     "output_type": "display_data"
    },
    {
     "name": "stdout",
     "output_type": "stream",
     "text": [
      "Sandal, Pullover, Ankle boot, T-shirt/top, Trouser, Pullover, Trouser, Coat\n"
     ]
    }
   ],
   "source": [
    "# Функція для показу зображень\n",
    "def imshow(img):\n",
    "    img = img / 2 + 0.5  # денормалізація\n",
    "    npimg = img.numpy()\n",
    "    plt.imshow(np.transpose(npimg, (1, 2, 0)), cmap=\"gray\")\n",
    "    plt.show()\n",
    "\n",
    "# Отримання випадкових зображень\n",
    "dataiter = iter(trainloader)\n",
    "images, labels = next(dataiter)\n",
    "\n",
    "# Відображення зображень\n",
    "imshow(torchvision.utils.make_grid(images[:8]))  # 8 зображень\n",
    "print(', '.join(f'{classes[labels[j]]}' for j in range(8)))\n"
   ]
  },
  {
   "cell_type": "code",
   "execution_count": 12,
   "id": "3f185c0b",
   "metadata": {},
   "outputs": [
    {
     "data": {
      "image/png": "[encoded data removed]",
      "text/plain": [
       "<Figure size 640x480 with 1 Axes>"
      ]
     },
     "metadata": {},
     "output_type": "display_data"
    },
    {
     "name": "stdout",
     "output_type": "stream",
     "text": [
      "Real:      Ankle boot, Pullover, Trouser, Trouser, Shirt, Trouser, Coat, Shirt\n",
      "Predicted: Sneaker, Pullover, Trouser, Trouser, Shirt, Trouser, Coat, Shirt\n"
     ]
    }
   ],
   "source": [
    "dataiter = iter(testloader)\n",
    "images, labels = next(dataiter)\n",
    "images, labels = images.to(device), labels.to(device)\n",
    "\n",
    "# Отримання передбачень\n",
    "outputs = net(images)\n",
    "_, predicted = torch.max(outputs, 1)\n",
    "\n",
    "# Відображення зображень і передбачень\n",
    "imshow(torchvision.utils.make_grid(images[:8].cpu()))\n",
    "print('Real:     ', ', '.join(f'{classes[labels[j]]}' for j in range(8)))\n",
    "print('Predicted:', ', '.join(f'{classes[predicted[j]]}' for j in range(8)))\n"
   ]
  },
  {
   "cell_type": "code",
   "execution_count": 13,
   "id": "bf210bbc",
   "metadata": {},
   "outputs": [
    {
     "name": "stdout",
     "output_type": "stream",
     "text": [
      "Accuracy of T-shirt/top: 66.50%\n",
      "Accuracy of Trouser: 93.90%\n",
      "Accuracy of Pullover: 70.10%\n",
      "Accuracy of Dress: 91.40%\n",
      "Accuracy of Coat: 76.70%\n",
      "Accuracy of Sandal: 89.30%\n",
      "Accuracy of Shirt: 49.20%\n",
      "Accuracy of Sneaker: 95.70%\n",
      "Accuracy of Bag: 95.10%\n",
      "Accuracy of Ankle boot: 91.90%\n"
     ]
    }
   ],
   "source": [
    "class_correct = [0] * 10\n",
    "class_total = [0] * 10\n",
    "\n",
    "with torch.no_grad():\n",
    "    for data in testloader:\n",
    "        images, labels = data\n",
    "        images, labels = images.to(device), labels.to(device)\n",
    "        outputs = net(images)\n",
    "        _, predicted = torch.max(outputs, 1)\n",
    "        c = (predicted == labels).squeeze()\n",
    "        for i in range(len(labels)):\n",
    "            label = labels[i]\n",
    "            class_correct[label] += c[i].item()\n",
    "            class_total[label] += 1\n",
    "\n",
    "# Вивід точності для кожного класу\n",
    "for i in range(10):\n",
    "    print(f'Accuracy of {classes[i]}: {100 * class_correct[i] / class_total[i]:.2f}%')"
   ]
  }
 ],
 "metadata": {
  "kernelspec": {
   "display_name": "myproject_kernel",
   "language": "python",
   "name": "myproject_kernel"
  },
  "language_info": {
   "codemirror_mode": {
    "name": "ipython",
    "version": 3
   },
   "file_extension": ".py",
   "mimetype": "text/x-python",
   "name": "python",
   "nbconvert_exporter": "python",
   "pygments_lexer": "ipython3",
   "version": "3.9.13"
  }
 },
 "nbformat": 4,
 "nbformat_minor": 5
}
